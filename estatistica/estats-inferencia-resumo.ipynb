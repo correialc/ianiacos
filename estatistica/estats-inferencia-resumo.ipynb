{
 "cells": [
  {
   "cell_type": "markdown",
   "metadata": {},
   "source": [
    "# ESTATÍSTICA \n",
    "## Material Consolidado de INFERÊNCIA"
   ]
  },
  {
   "cell_type": "code",
   "execution_count": 3,
   "metadata": {},
   "outputs": [],
   "source": [
    "import numpy as np\n",
    "from math import sqrt, exp\n",
    "from statistics import stdev"
   ]
  },
  {
   "cell_type": "code",
   "execution_count": 4,
   "metadata": {},
   "outputs": [],
   "source": [
    "from scipy.stats import binom, poisson"
   ]
  },
  {
   "cell_type": "code",
   "execution_count": 5,
   "metadata": {},
   "outputs": [],
   "source": [
    "from stats import binomial as bi\n",
    "from stats import exponencial as xp\n",
    "from stats import poisson as po\n",
    "from stats import normal as nm\n",
    "from stats import inferencia as inf\n",
    "from stats import hipoteses as hip"
   ]
  },
  {
   "cell_type": "markdown",
   "metadata": {},
   "source": [
    "# INFERENCIA"
   ]
  },
  {
   "cell_type": "markdown",
   "metadata": {},
   "source": [
    "### Amostra para cálculos intermediários"
   ]
  },
  {
   "cell_type": "code",
   "execution_count": 36,
   "metadata": {
    "tags": []
   },
   "outputs": [
    {
     "output_type": "stream",
     "name": "stdout",
     "text": "Média: 10.65\nDesvio padrão: 1.2681\nTamanho: 12\nMédia: 7.7083\nDesvio padrão: 0.9434\nTamanho: 12\n"
    }
   ],
   "source": [
    "amostra1 = np.array([11.6, 8.8, 9.9, 9.5, 11.6, 9.1, 10.6, 10.8, 13.4, 10.6, 10.5, 11.4])\n",
    "print(f\"Média: {round(amostra1.mean(),4)}\")\n",
    "print(f\"Desvio padrão: {round(amostra1.std(ddof=1),4)}\")\n",
    "print(f\"Tamanho: {len(amostra1)}\")\n",
    "\n",
    "amostra2 = np.array([8.1, 7.9, 6.8, 7.8, 7.6, 7.9, 5.7, 8.4, 8 , 9.5, 8, 6.8])\n",
    "print(f\"Média: {round(amostra2.mean(),4)}\")\n",
    "print(f\"Desvio padrão: {round(amostra2.std(ddof=1),4)}\")\n",
    "print(f\"Tamanho: {len(amostra2)}\")\n"
   ]
  },
  {
   "cell_type": "markdown",
   "metadata": {},
   "source": [
    "## MÉDIA(z) - Intervalo de Confiança"
   ]
  },
  {
   "cell_type": "code",
   "execution_count": 27,
   "metadata": {
    "tags": []
   },
   "outputs": [
    {
     "output_type": "stream",
     "name": "stdout",
     "text": "Intervalo confiança: [22.3499 ; 23.4501]\n"
    }
   ],
   "source": [
    "sigma = 1.5\n",
    "n = 20\n",
    "z = 1.64\n",
    "e = inf.media_margem_erro(z, sigma, n)\n",
    "# N = ?\n",
    "med = 22.9\n",
    "inf.print_intervalo_confianca(med, e)"
   ]
  },
  {
   "cell_type": "markdown",
   "metadata": {},
   "source": [
    "## MÉDIA(z) - Tamanho da amostra"
   ]
  },
  {
   "cell_type": "code",
   "execution_count": 33,
   "metadata": {
    "tags": []
   },
   "outputs": [
    {
     "output_type": "stream",
     "name": "stdout",
     "text": "Tamanho recomendado da amostra: 467.0000\n"
    }
   ],
   "source": [
    "sigma = sqrt(0.1764)\n",
    "z =2.57\n",
    "e = 0.05\n",
    "# N=386\n",
    "n = inf.media_tamanho_amostra(z, sigma, e)\n",
    "print(\"Tamanho recomendado da amostra: {:6.4f}\".format(n))"
   ]
  },
  {
   "cell_type": "markdown",
   "metadata": {},
   "source": [
    "## MÉDIA(t) - Intervalo de confiança"
   ]
  },
  {
   "cell_type": "code",
   "execution_count": 26,
   "metadata": {
    "tags": []
   },
   "outputs": [
    {
     "output_type": "stream",
     "name": "stdout",
     "text": "Intervalo confiança: [27.3379 ; 32.6621]\n"
    }
   ],
   "source": [
    "n = 29\n",
    "gl = n-1 # grau de liberdade\n",
    "alpha = 0.05\n",
    "med = 30\n",
    "s = 7\n",
    "t = 2.048\n",
    "e = inf.media_margem_erro(t, s, n)\n",
    "inf.print_intervalo_confianca(med, e)"
   ]
  },
  {
   "cell_type": "markdown",
   "metadata": {},
   "source": [
    "## MÉDIA(t) - Tamanho da Amostra"
   ]
  },
  {
   "cell_type": "code",
   "execution_count": 25,
   "metadata": {
    "tags": []
   },
   "outputs": [
    {
     "output_type": "stream",
     "name": "stdout",
     "text": "Tamanho recomendado da amostra: 16.0000\n"
    }
   ],
   "source": [
    "n = 16\n",
    "gl = n-1 # grau de liberdade\n",
    "alpha = 0.02\n",
    "med = 330\n",
    "s = 40\n",
    "t = 2.602\n",
    "e = 26.02\n",
    "n = inf.media_tamanho_amostra(t, s, e)\n",
    "print(\"Tamanho recomendado da amostra: {:6.4f}\".format(n))"
   ]
  },
  {
   "cell_type": "markdown",
   "metadata": {},
   "source": [
    "## PROPORÇÃO(z) - Intervalo de confiança"
   ]
  },
  {
   "cell_type": "code",
   "execution_count": 28,
   "metadata": {
    "tags": []
   },
   "outputs": [
    {
     "output_type": "stream",
     "name": "stdout",
     "text": "Intervalo confiança: [0.0562 ; 0.1438]\n"
    }
   ],
   "source": [
    "z = 1.96\n",
    "n = 180\n",
    "x = 18 \n",
    "pa = x/n    \n",
    "# N = ?\n",
    "e = inf.prop_margem_erro(z, pa, n)\n",
    "inf.print_intervalo_confianca(pa, e)"
   ]
  },
  {
   "cell_type": "markdown",
   "metadata": {},
   "source": [
    "## PROPORÇÃO(z) - Tamanho da Amostra"
   ]
  },
  {
   "cell_type": "code",
   "execution_count": 30,
   "metadata": {
    "tags": []
   },
   "outputs": [
    {
     "output_type": "stream",
     "name": "stdout",
     "text": "Tamanho recomendado da amostra: 1076.0000\n"
    }
   ],
   "source": [
    "z = 1.64\n",
    "pa = 0.5\n",
    "e = 0.025\n",
    "# N = 1286\n",
    "n = inf.prop_tamanho_amostra(z, pa, e)\n",
    "print(\"Tamanho recomendado da amostra: {:6.4f}\".format(n))"
   ]
  },
  {
   "cell_type": "markdown",
   "metadata": {},
   "source": [
    "## TESTES DE HIPÓTESES"
   ]
  },
  {
   "cell_type": "markdown",
   "metadata": {},
   "source": [
    "## Teste t para uma média (desvio desconhecido)"
   ]
  },
  {
   "cell_type": "code",
   "execution_count": 12,
   "metadata": {},
   "outputs": [
    {
     "output_type": "execute_result",
     "data": {
      "text/plain": "1.2348"
     },
     "metadata": {},
     "execution_count": 12
    }
   ],
   "source": [
    "# H0: med <= 7 \n",
    "# Ha: med > 7 \n",
    "\n",
    "xhat = 7.25\n",
    "mu0 = 7\n",
    "s = 1.052\n",
    "alpha = 0.05\n",
    "n = 27\n",
    "tt = hip.media_testet(xhat, mu0, s, n)\n",
    "tt"
   ]
  },
  {
   "cell_type": "markdown",
   "metadata": {},
   "source": [
    "## Teste t para duas médias (amostras dependentes)"
   ]
  },
  {
   "cell_type": "code",
   "execution_count": 47,
   "metadata": {
    "tags": []
   },
   "outputs": [
    {
     "output_type": "stream",
     "name": "stdout",
     "text": "[16 15 11 20 19 14 13 15 14 16]\n[13 13 12 16 16 11 10 15  9 16]\n[ 3  2 -1  4  3  3  3  0  5  0]\n"
    }
   ],
   "source": [
    "x = np.array([16, \t15, \t11, \t20, \t19, \t14, \t13, \t15, \t14, \t16])\n",
    "y = np.array([13, \t13 ,\t12 ,\t16 ,\t16 ,\t11, \t10, \t15, \t9, \t16])\n",
    "di = x - y\n",
    "print(x)\n",
    "print\n",
    "print(y)\n",
    "print(di)"
   ]
  },
  {
   "cell_type": "code",
   "execution_count": 48,
   "metadata": {
    "tags": []
   },
   "outputs": [
    {
     "output_type": "stream",
     "name": "stdout",
     "text": "n:     10 Média di:     2.2000 Desvio Padrão di:     1.9322\n"
    }
   ],
   "source": [
    "n = len(di)\n",
    "di_med = di.mean()\n",
    "di_std = di.std(ddof = 1)\n",
    "print(\"n: {:6} Média di: {:10.4f} Desvio Padrão di: {:10.4f}\".format(n, di_med, di_std))"
   ]
  },
  {
   "cell_type": "code",
   "execution_count": 49,
   "metadata": {},
   "outputs": [
    {
     "output_type": "execute_result",
     "data": {
      "text/plain": "3.6006"
     },
     "metadata": {},
     "execution_count": 49
    }
   ],
   "source": [
    "tp = hip.media_testet_amostras_dependentes(di_med, di_std, n)\n",
    "tp\n",
    "# O valor p será a 2 X P(tp)"
   ]
  },
  {
   "cell_type": "markdown",
   "metadata": {},
   "source": [
    "## Teste F para comparação de duas variâncias"
   ]
  },
  {
   "cell_type": "code",
   "execution_count": 45,
   "metadata": {
    "tags": []
   },
   "outputs": [
    {
     "output_type": "stream",
     "name": "stdout",
     "text": "F:   1.44 FL:  0.447  FR:  2.308 \n"
    }
   ],
   "source": [
    "n1 = 28\n",
    "n2 = 22\n",
    "var1 = 150**2\n",
    "var2 = 125**2\n",
    "F = var1/var2\n",
    "FL = 1/2.237\n",
    "FR = 2.308\n",
    "print(\"F: {:6.4} FL: {:6.4}  FR: {:6.4} \".format(F, FL, FR))"
   ]
  },
  {
   "cell_type": "markdown",
   "metadata": {},
   "source": [
    "## Teste t para duas médias (amostras independentes)"
   ]
  },
  {
   "cell_type": "markdown",
   "metadata": {},
   "source": [
    "#### Populações Homocedásticas"
   ]
  },
  {
   "cell_type": "code",
   "execution_count": 65,
   "metadata": {
    "tags": []
   },
   "outputs": [
    {
     "output_type": "stream",
     "name": "stdout",
     "text": "Graus de liberdade: 50\nt = 2.7653\n"
    }
   ],
   "source": [
    "n1 = 26\n",
    "n2 = 26 \n",
    "var1 = 0.6**2\n",
    "var2 = 0.7**2\n",
    "x1 = 2.8\n",
    "x2 = 2.3\n",
    "t = hip.media_testet_amostras_independentes(x1, x2, n1, n2, var1, var2, True)\n",
    "gl = n1 + n2 -2\n",
    "print(\"Graus de liberdade: {}\".format(gl))\n",
    "print(\"t = {:6.4f}\".format(t))\n",
    "# O valor p será a 2 X P(tp)"
   ]
  },
  {
   "cell_type": "markdown",
   "metadata": {},
   "source": [
    "#### Populações Heterocedásticas"
   ]
  },
  {
   "cell_type": "code",
   "execution_count": 64,
   "metadata": {
    "tags": []
   },
   "outputs": [
    {
     "output_type": "stream",
     "name": "stdout",
     "text": "Graus de liberdade: 8\nt = -12.5140\n"
    }
   ],
   "source": [
    "n1 = 9\n",
    "n2 = 9 \n",
    "var1 = 449.33\n",
    "var2 = 2391.5\n",
    "x1 = 227\n",
    "x2 = 449.33\n",
    "t = hip.media_testet_amostras_independentes(x1, x2, n1, n2, var1, var2, False)\n",
    "gl = 8\n",
    "print(\"Graus de liberdade: {}\".format(gl))\n",
    "print(\"t = {:6.4f}\".format(t))\n",
    "# O valor p será a 2 X P(tp)"
   ]
  },
  {
   "cell_type": "code",
   "execution_count": null,
   "metadata": {},
   "outputs": [],
   "source": []
  }
 ],
 "metadata": {
  "language_info": {
   "codemirror_mode": {
    "name": "ipython",
    "version": 3
   },
   "file_extension": ".py",
   "mimetype": "text/x-python",
   "name": "python",
   "nbconvert_exporter": "python",
   "pygments_lexer": "ipython3",
   "version": "3.7.7-final"
  },
  "orig_nbformat": 2,
  "kernelspec": {
   "name": "python3",
   "display_name": "Python 3"
  }
 },
 "nbformat": 4,
 "nbformat_minor": 2
}