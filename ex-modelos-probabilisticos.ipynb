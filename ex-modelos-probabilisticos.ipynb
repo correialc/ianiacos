{
 "cells": [
  {
   "cell_type": "markdown",
   "metadata": {},
   "source": [
    "# Exercícios de Estatística\n",
    "## MODELOS PROBABILÍSTICOS"
   ]
  },
  {
   "cell_type": "markdown",
   "metadata": {},
   "source": [
    "## Distribuição Binomial"
   ]
  },
  {
   "cell_type": "code",
   "execution_count": 112,
   "metadata": {},
   "outputs": [],
   "source": [
    "from math import sqrt\n",
    "from scipy.stats import binom"
   ]
  },
  {
   "cell_type": "markdown",
   "metadata": {},
   "source": [
    "### Big Hand"
   ]
  },
  {
   "cell_type": "code",
   "execution_count": 113,
   "metadata": {},
   "outputs": [],
   "source": [
    "med = lambda n, p : n*p\n",
    "var = lambda n, p : n*p*(1-p)\n",
    "dp = lambda n, p : sqrt(n*p*(1-p))\n",
    "result = lambda n, p : print(f\"Média: {med(n, p)}, Variância: {var(n, p)}, Desvio: {dp(n, p)}\")"
   ]
  },
  {
   "cell_type": "markdown",
   "metadata": {},
   "source": [
    "### Usando Scipy Binom"
   ]
  },
  {
   "cell_type": "code",
   "execution_count": 114,
   "metadata": {},
   "outputs": [],
   "source": [
    "result = lambda n, p : print(f\"Média: {binom.mean(n, p)}, Variância: {binom.var(n, p)}, Desvio: {binom.std(n, p)}\")"
   ]
  },
  {
   "cell_type": "markdown",
   "metadata": {},
   "source": [
    "### Exercício Resolvido (pág 2)"
   ]
  },
  {
   "cell_type": "code",
   "execution_count": 115,
   "metadata": {},
   "outputs": [],
   "source": [
    "n = 10\n",
    "p = 0.05\n",
    "\n",
    "dados = binom(n,p)"
   ]
  },
  {
   "cell_type": "markdown",
   "metadata": {},
   "source": [
    "### a) X: Número de peças defeituosas produzidas. x = 1, 2, 3...10"
   ]
  },
  {
   "cell_type": "markdown",
   "metadata": {},
   "source": [
    "### b)"
   ]
  },
  {
   "cell_type": "code",
   "execution_count": 116,
   "metadata": {},
   "outputs": [
    {
     "output_type": "stream",
     "name": "stdout",
     "text": "Média: 0.5, Variância: 0.475, Desvio: 0.689202437604511\n"
    }
   ],
   "source": [
    "result(n,p)"
   ]
  },
  {
   "cell_type": "markdown",
   "metadata": {},
   "source": [
    "### c)"
   ]
  },
  {
   "cell_type": "code",
   "execution_count": 117,
   "metadata": {},
   "outputs": [
    {
     "output_type": "execute_result",
     "data": {
      "text/plain": "8.03789062500002e-08"
     },
     "metadata": {},
     "execution_count": 117
    }
   ],
   "source": [
    "# i.\n",
    "dados.pmf(7)"
   ]
  },
  {
   "cell_type": "code",
   "execution_count": 118,
   "metadata": {},
   "outputs": [
    {
     "output_type": "execute_result",
     "data": {
      "text/plain": "0.9884964426207031"
     },
     "metadata": {},
     "execution_count": 118
    }
   ],
   "source": [
    "# ii\n",
    "dados.cdf(2)"
   ]
  },
  {
   "cell_type": "code",
   "execution_count": 119,
   "metadata": {},
   "outputs": [
    {
     "output_type": "execute_result",
     "data": {
      "text/plain": "0.9884964426207031"
     },
     "metadata": {},
     "execution_count": 119
    }
   ],
   "source": [
    "# iii\n",
    "dados.cdf(2)"
   ]
  },
  {
   "cell_type": "markdown",
   "metadata": {},
   "source": [
    "### Exercício 01"
   ]
  },
  {
   "cell_type": "code",
   "execution_count": 120,
   "metadata": {},
   "outputs": [],
   "source": [
    "p = 0.1\n",
    "n = 18\n",
    "dados = binom(n,p)"
   ]
  },
  {
   "cell_type": "markdown",
   "metadata": {},
   "source": [
    "### a)"
   ]
  },
  {
   "cell_type": "code",
   "execution_count": 121,
   "metadata": {},
   "outputs": [
    {
     "output_type": "execute_result",
     "data": {
      "text/plain": "0.2835120888943312"
     },
     "metadata": {},
     "execution_count": 121
    }
   ],
   "source": [
    "dados.pmf(2)"
   ]
  },
  {
   "cell_type": "markdown",
   "metadata": {},
   "source": [
    "### b)"
   ]
  },
  {
   "cell_type": "code",
   "execution_count": 122,
   "metadata": {},
   "outputs": [
    {
     "output_type": "execute_result",
     "data": {
      "text/plain": "0.09819684142543728"
     },
     "metadata": {},
     "execution_count": 122
    }
   ],
   "source": [
    "1 - dados.cdf(3)"
   ]
  },
  {
   "cell_type": "markdown",
   "metadata": {},
   "source": [
    "### c)"
   ]
  },
  {
   "cell_type": "code",
   "execution_count": 123,
   "metadata": {},
   "outputs": [
    {
     "output_type": "execute_result",
     "data": {
      "text/plain": "0.2660305478747672"
     },
     "metadata": {},
     "execution_count": 123
    }
   ],
   "source": [
    "dados.cdf(7) - dados.cdf(2) "
   ]
  },
  {
   "cell_type": "code",
   "execution_count": 124,
   "metadata": {},
   "outputs": [
    {
     "output_type": "stream",
     "name": "stdout",
     "text": "Média: 1.8, Variância: 1.62, Desvio: 1.2727922061357855\n"
    }
   ],
   "source": [
    "result(n,p)"
   ]
  },
  {
   "cell_type": "markdown",
   "metadata": {},
   "source": [
    "### Exercício 02"
   ]
  },
  {
   "cell_type": "code",
   "execution_count": 125,
   "metadata": {},
   "outputs": [],
   "source": [
    "p = 0.2\n",
    "n = 4\n",
    "dados = binom(n, p)"
   ]
  },
  {
   "cell_type": "code",
   "execution_count": 126,
   "metadata": {},
   "outputs": [
    {
     "output_type": "execute_result",
     "data": {
      "text/plain": "0.9728"
     },
     "metadata": {},
     "execution_count": 126
    }
   ],
   "source": [
    "dados.cdf(2)"
   ]
  },
  {
   "cell_type": "markdown",
   "metadata": {},
   "source": [
    "### Exercício 03"
   ]
  },
  {
   "cell_type": "code",
   "execution_count": 127,
   "metadata": {},
   "outputs": [],
   "source": [
    "p = 0.02\n",
    "n = 20\n",
    "dados = binom(n, p)"
   ]
  },
  {
   "cell_type": "code",
   "execution_count": 128,
   "metadata": {},
   "outputs": [
    {
     "output_type": "execute_result",
     "data": {
      "text/plain": "0.007068693403814108"
     },
     "metadata": {},
     "execution_count": 128
    }
   ],
   "source": [
    "1 - dados.cdf(2)"
   ]
  },
  {
   "cell_type": "markdown",
   "metadata": {},
   "source": [
    "## Distribuição de Poisson"
   ]
  },
  {
   "cell_type": "code",
   "execution_count": 129,
   "metadata": {},
   "outputs": [],
   "source": [
    "from scipy.stats import poisson"
   ]
  },
  {
   "cell_type": "markdown",
   "metadata": {},
   "source": [
    "### Exercício Resolvido (pág. 5)"
   ]
  },
  {
   "cell_type": "code",
   "execution_count": 130,
   "metadata": {},
   "outputs": [],
   "source": [
    "mu = 5 # por minuto\n",
    "dados = poisson(mu)"
   ]
  },
  {
   "cell_type": "markdown",
   "metadata": {},
   "source": [
    "### a) \n",
    "#### X: Número de chamadas por minuto.\n",
    "#### x: 0, 1, 2...  "
   ]
  },
  {
   "cell_type": "markdown",
   "metadata": {},
   "source": [
    "### b)\n",
    "### i."
   ]
  },
  {
   "cell_type": "code",
   "execution_count": 131,
   "metadata": {},
   "outputs": [
    {
     "output_type": "execute_result",
     "data": {
      "text/plain": "0.006737946999085467"
     },
     "metadata": {},
     "execution_count": 131
    }
   ],
   "source": [
    "dados.pmf(0)"
   ]
  },
  {
   "cell_type": "markdown",
   "metadata": {},
   "source": [
    "### ii."
   ]
  },
  {
   "cell_type": "code",
   "execution_count": 132,
   "metadata": {},
   "outputs": [
    {
     "output_type": "execute_result",
     "data": {
      "text/plain": "0.04042768199451279"
     },
     "metadata": {},
     "execution_count": 132
    }
   ],
   "source": [
    "dados.cdf(1)"
   ]
  },
  {
   "cell_type": "markdown",
   "metadata": {},
   "source": [
    "### iii."
   ]
  },
  {
   "cell_type": "code",
   "execution_count": 133,
   "metadata": {},
   "outputs": [
    {
     "output_type": "execute_result",
     "data": {
      "text/plain": "0.8753479805169189"
     },
     "metadata": {},
     "execution_count": 133
    }
   ],
   "source": [
    "1 - dados.cdf(2)"
   ]
  },
  {
   "cell_type": "markdown",
   "metadata": {},
   "source": [
    "### c)"
   ]
  },
  {
   "cell_type": "code",
   "execution_count": 134,
   "metadata": {},
   "outputs": [
    {
     "output_type": "execute_result",
     "data": {
      "text/plain": "0.05164885353175814"
     },
     "metadata": {},
     "execution_count": 134
    }
   ],
   "source": [
    "mu = 4 * 5 # (em 4 minutos)\n",
    "dados = poisson(mu)\n",
    "dados.pmf(15)"
   ]
  },
  {
   "cell_type": "markdown",
   "metadata": {},
   "source": [
    "### Exercício 04"
   ]
  },
  {
   "cell_type": "code",
   "execution_count": 135,
   "metadata": {},
   "outputs": [],
   "source": [
    "mu = 2.3 # por milímetro de fio\n",
    "dados = poisson(mu)"
   ]
  },
  {
   "cell_type": "markdown",
   "metadata": {},
   "source": [
    "### a)"
   ]
  },
  {
   "cell_type": "code",
   "execution_count": 136,
   "metadata": {},
   "outputs": [
    {
     "output_type": "execute_result",
     "data": {
      "text/plain": "0.2651846416468159"
     },
     "metadata": {},
     "execution_count": 136
    }
   ],
   "source": [
    "dados.pmf(2)"
   ]
  },
  {
   "cell_type": "markdown",
   "metadata": {},
   "source": [
    "### b)"
   ]
  },
  {
   "cell_type": "code",
   "execution_count": 137,
   "metadata": {},
   "outputs": [
    {
     "output_type": "execute_result",
     "data": {
      "text/plain": "0.5853950964353463"
     },
     "metadata": {},
     "execution_count": 137
    }
   ],
   "source": [
    "dados.cdf(4) - dados.cdf(1) # ERRADO. Verificar interpretação"
   ]
  },
  {
   "cell_type": "markdown",
   "metadata": {},
   "source": [
    "### c)"
   ]
  },
  {
   "cell_type": "code",
   "execution_count": 138,
   "metadata": {},
   "outputs": [
    {
     "output_type": "execute_result",
     "data": {
      "text/plain": "0.11293507088124335"
     },
     "metadata": {},
     "execution_count": 138
    }
   ],
   "source": [
    "mu = 2.3 * 5 # para 5 milímetros de fio\n",
    "dados = poisson(mu)\n",
    "dados.pmf(10)"
   ]
  },
  {
   "cell_type": "code",
   "execution_count": 139,
   "metadata": {},
   "outputs": [
    {
     "output_type": "execute_result",
     "data": {
      "text/plain": "0.9899481642553665"
     },
     "metadata": {},
     "execution_count": 139
    }
   ],
   "source": [
    "mu = 2.3 * 2 # para 2 milímetros de fio\n",
    "dados = poisson(mu)\n",
    "1 - dados.pmf(0)"
   ]
  },
  {
   "cell_type": "markdown",
   "metadata": {},
   "source": [
    "### Exercício 05"
   ]
  },
  {
   "cell_type": "code",
   "execution_count": 140,
   "metadata": {},
   "outputs": [],
   "source": [
    "mu = 0.1 # por metro quadrado\n",
    "dados = poisson(mu)"
   ]
  },
  {
   "cell_type": "markdown",
   "metadata": {},
   "source": [
    "### a)"
   ]
  },
  {
   "cell_type": "code",
   "execution_count": 141,
   "metadata": {},
   "outputs": [
    {
     "output_type": "execute_result",
     "data": {
      "text/plain": "0.004524187090179801"
     },
     "metadata": {},
     "execution_count": 141
    }
   ],
   "source": [
    "dados.pmf(2)"
   ]
  },
  {
   "cell_type": "markdown",
   "metadata": {},
   "source": [
    "### b)"
   ]
  },
  {
   "cell_type": "code",
   "execution_count": 142,
   "metadata": {},
   "outputs": [
    {
     "output_type": "execute_result",
     "data": {
      "text/plain": "0.36787944117144233"
     },
     "metadata": {},
     "execution_count": 142
    }
   ],
   "source": [
    "mu = 0.1 * 10 # para 10 metros quadrados\n",
    "dados = poisson(mu)\n",
    "dados.pmf(1)"
   ]
  },
  {
   "cell_type": "markdown",
   "metadata": {},
   "source": [
    "### c)"
   ]
  },
  {
   "cell_type": "code",
   "execution_count": 143,
   "metadata": {},
   "outputs": [
    {
     "output_type": "execute_result",
     "data": {
      "text/plain": "0.1353352832366127"
     },
     "metadata": {},
     "execution_count": 143
    }
   ],
   "source": [
    "mu = 0.1 * 20 # para 20 metros quadrados\n",
    "dados = poisson(mu)\n",
    "dados.pmf(0)"
   ]
  },
  {
   "cell_type": "markdown",
   "metadata": {},
   "source": [
    "### d)"
   ]
  },
  {
   "cell_type": "code",
   "execution_count": 144,
   "metadata": {},
   "outputs": [
    {
     "output_type": "execute_result",
     "data": {
      "text/plain": "0.26424111765711533"
     },
     "metadata": {},
     "execution_count": 144
    }
   ],
   "source": [
    "mu = 0.1 * 10 # para 10 metros quadrados\n",
    "dados = poisson(mu)\n",
    "1 - dados.cdf(1)"
   ]
  },
  {
   "cell_type": "markdown",
   "metadata": {},
   "source": [
    "### Exercício 06"
   ]
  },
  {
   "cell_type": "markdown",
   "metadata": {},
   "source": [
    "### a)"
   ]
  },
  {
   "cell_type": "code",
   "execution_count": 145,
   "metadata": {},
   "outputs": [
    {
     "output_type": "execute_result",
     "data": {
      "text/plain": "0.049787068367863944"
     },
     "metadata": {},
     "execution_count": 145
    }
   ],
   "source": [
    "mu = 6 / 2 # para 1/2 minuto (30 segs)\n",
    "dados = poisson(mu)\n",
    "dados.pmf(0)"
   ]
  },
  {
   "cell_type": "markdown",
   "metadata": {},
   "source": [
    "### b)"
   ]
  },
  {
   "cell_type": "code",
   "execution_count": 146,
   "metadata": {},
   "outputs": [
    {
     "output_type": "execute_result",
     "data": {
      "text/plain": "0.5768099188731564"
     },
     "metadata": {},
     "execution_count": 146
    }
   ],
   "source": [
    "1 - dados.cdf(2)"
   ]
  },
  {
   "cell_type": "code",
   "execution_count": null,
   "metadata": {},
   "outputs": [],
   "source": []
  }
 ],
 "metadata": {
  "language_info": {
   "codemirror_mode": {
    "name": "ipython",
    "version": 3
   },
   "file_extension": ".py",
   "mimetype": "text/x-python",
   "name": "python",
   "nbconvert_exporter": "python",
   "pygments_lexer": "ipython3",
   "version": "3.7.7-final"
  },
  "orig_nbformat": 2,
  "kernelspec": {
   "name": "python3",
   "display_name": "Python 3"
  }
 },
 "nbformat": 4,
 "nbformat_minor": 2
}