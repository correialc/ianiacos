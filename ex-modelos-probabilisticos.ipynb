{
 "cells": [
  {
   "cell_type": "markdown",
   "metadata": {},
   "source": [
    "# Exercícios de Estatística\n",
    "## MODELOS PROBABILÍSTICOS - VARIÁVES DISCRETAS"
   ]
  },
  {
   "cell_type": "markdown",
   "metadata": {},
   "source": [
    "## Distribuição Binomial"
   ]
  },
  {
   "cell_type": "code",
   "execution_count": 51,
   "metadata": {},
   "outputs": [],
   "source": [
    "from math import sqrt, exp\n",
    "from scipy.stats import binom"
   ]
  },
  {
   "cell_type": "markdown",
   "metadata": {},
   "source": [
    "### Big Hand"
   ]
  },
  {
   "cell_type": "code",
   "execution_count": 2,
   "metadata": {},
   "outputs": [],
   "source": [
    "med = lambda n, p : n*p\n",
    "var = lambda n, p : n*p*(1-p)\n",
    "dp = lambda n, p : sqrt(n*p*(1-p))\n",
    "result = lambda n, p : print(f\"Média: {med(n, p)}, Variância: {var(n, p)}, Desvio: {dp(n, p)}\")"
   ]
  },
  {
   "cell_type": "markdown",
   "metadata": {},
   "source": [
    "### Usando Scipy Binom"
   ]
  },
  {
   "cell_type": "code",
   "execution_count": 3,
   "metadata": {},
   "outputs": [],
   "source": [
    "result = lambda n, p : print(f\"Média: {binom.mean(n, p)}, Variância: {binom.var(n, p)}, Desvio: {binom.std(n, p)}\")"
   ]
  },
  {
   "cell_type": "markdown",
   "metadata": {},
   "source": [
    "### Exercício Resolvido (pág 2)"
   ]
  },
  {
   "cell_type": "code",
   "execution_count": 4,
   "metadata": {},
   "outputs": [],
   "source": [
    "n = 10\n",
    "p = 0.05\n",
    "\n",
    "dados = binom(n,p)"
   ]
  },
  {
   "cell_type": "markdown",
   "metadata": {},
   "source": [
    "### a) X: Número de peças defeituosas produzidas. x = 1, 2, 3...10"
   ]
  },
  {
   "cell_type": "markdown",
   "metadata": {},
   "source": [
    "### b)"
   ]
  },
  {
   "cell_type": "code",
   "execution_count": 5,
   "metadata": {},
   "outputs": [
    {
     "output_type": "stream",
     "name": "stdout",
     "text": "Média: 0.5, Variância: 0.475, Desvio: 0.689202437604511\n"
    }
   ],
   "source": [
    "result(n,p)"
   ]
  },
  {
   "cell_type": "markdown",
   "metadata": {},
   "source": [
    "### c)"
   ]
  },
  {
   "cell_type": "code",
   "execution_count": 6,
   "metadata": {},
   "outputs": [
    {
     "output_type": "execute_result",
     "data": {
      "text/plain": "8.03789062500002e-08"
     },
     "metadata": {},
     "execution_count": 6
    }
   ],
   "source": [
    "# i.\n",
    "dados.pmf(7)"
   ]
  },
  {
   "cell_type": "code",
   "execution_count": 7,
   "metadata": {},
   "outputs": [
    {
     "output_type": "execute_result",
     "data": {
      "text/plain": "0.9884964426207031"
     },
     "metadata": {},
     "execution_count": 7
    }
   ],
   "source": [
    "# ii\n",
    "dados.cdf(2)"
   ]
  },
  {
   "cell_type": "code",
   "execution_count": 8,
   "metadata": {},
   "outputs": [
    {
     "output_type": "execute_result",
     "data": {
      "text/plain": "0.9884964426207031"
     },
     "metadata": {},
     "execution_count": 8
    }
   ],
   "source": [
    "# iii\n",
    "dados.cdf(2)"
   ]
  },
  {
   "cell_type": "markdown",
   "metadata": {},
   "source": [
    "### Exercício 01"
   ]
  },
  {
   "cell_type": "code",
   "execution_count": 9,
   "metadata": {},
   "outputs": [],
   "source": [
    "p = 0.1\n",
    "n = 18\n",
    "dados = binom(n,p)"
   ]
  },
  {
   "cell_type": "markdown",
   "metadata": {},
   "source": [
    "### a)"
   ]
  },
  {
   "cell_type": "code",
   "execution_count": 10,
   "metadata": {},
   "outputs": [
    {
     "output_type": "execute_result",
     "data": {
      "text/plain": "0.2835120888943312"
     },
     "metadata": {},
     "execution_count": 10
    }
   ],
   "source": [
    "dados.pmf(2)"
   ]
  },
  {
   "cell_type": "markdown",
   "metadata": {},
   "source": [
    "### b)"
   ]
  },
  {
   "cell_type": "code",
   "execution_count": 11,
   "metadata": {},
   "outputs": [
    {
     "output_type": "execute_result",
     "data": {
      "text/plain": "0.09819684142543728"
     },
     "metadata": {},
     "execution_count": 11
    }
   ],
   "source": [
    "1 - dados.cdf(3)"
   ]
  },
  {
   "cell_type": "markdown",
   "metadata": {},
   "source": [
    "### c)"
   ]
  },
  {
   "cell_type": "code",
   "execution_count": 12,
   "metadata": {},
   "outputs": [
    {
     "output_type": "execute_result",
     "data": {
      "text/plain": "0.2660305478747672"
     },
     "metadata": {},
     "execution_count": 12
    }
   ],
   "source": [
    "dados.cdf(7) - dados.cdf(2) "
   ]
  },
  {
   "cell_type": "code",
   "execution_count": 13,
   "metadata": {},
   "outputs": [
    {
     "output_type": "stream",
     "name": "stdout",
     "text": "Média: 1.8, Variância: 1.62, Desvio: 1.2727922061357855\n"
    }
   ],
   "source": [
    "result(n,p)"
   ]
  },
  {
   "cell_type": "markdown",
   "metadata": {},
   "source": [
    "### Exercício 02"
   ]
  },
  {
   "cell_type": "code",
   "execution_count": 14,
   "metadata": {},
   "outputs": [],
   "source": [
    "p = 0.2\n",
    "n = 4\n",
    "dados = binom(n, p)"
   ]
  },
  {
   "cell_type": "code",
   "execution_count": 15,
   "metadata": {},
   "outputs": [
    {
     "output_type": "execute_result",
     "data": {
      "text/plain": "0.9728"
     },
     "metadata": {},
     "execution_count": 15
    }
   ],
   "source": [
    "dados.cdf(2)"
   ]
  },
  {
   "cell_type": "markdown",
   "metadata": {},
   "source": [
    "### Exercício 03"
   ]
  },
  {
   "cell_type": "code",
   "execution_count": 16,
   "metadata": {},
   "outputs": [],
   "source": [
    "p = 0.02\n",
    "n = 20\n",
    "dados = binom(n, p)"
   ]
  },
  {
   "cell_type": "code",
   "execution_count": 17,
   "metadata": {},
   "outputs": [
    {
     "output_type": "execute_result",
     "data": {
      "text/plain": "0.007068693403814108"
     },
     "metadata": {},
     "execution_count": 17
    }
   ],
   "source": [
    "1 - dados.cdf(2)"
   ]
  },
  {
   "cell_type": "markdown",
   "metadata": {},
   "source": [
    "## Distribuição de Poisson"
   ]
  },
  {
   "cell_type": "code",
   "execution_count": 18,
   "metadata": {},
   "outputs": [],
   "source": [
    "from scipy.stats import poisson"
   ]
  },
  {
   "cell_type": "markdown",
   "metadata": {},
   "source": [
    "### Exercício Resolvido (pág. 5)"
   ]
  },
  {
   "cell_type": "code",
   "execution_count": 19,
   "metadata": {},
   "outputs": [],
   "source": [
    "mu = 5 # por minuto\n",
    "dados = poisson(mu)"
   ]
  },
  {
   "cell_type": "markdown",
   "metadata": {},
   "source": [
    "### a) \n",
    "#### X: Número de chamadas por minuto.\n",
    "#### x: 0, 1, 2...  "
   ]
  },
  {
   "cell_type": "markdown",
   "metadata": {},
   "source": [
    "### b)\n",
    "### i."
   ]
  },
  {
   "cell_type": "code",
   "execution_count": 20,
   "metadata": {},
   "outputs": [
    {
     "output_type": "execute_result",
     "data": {
      "text/plain": "0.006737946999085467"
     },
     "metadata": {},
     "execution_count": 20
    }
   ],
   "source": [
    "dados.pmf(0)"
   ]
  },
  {
   "cell_type": "markdown",
   "metadata": {},
   "source": [
    "### ii."
   ]
  },
  {
   "cell_type": "code",
   "execution_count": 21,
   "metadata": {},
   "outputs": [
    {
     "output_type": "execute_result",
     "data": {
      "text/plain": "0.04042768199451279"
     },
     "metadata": {},
     "execution_count": 21
    }
   ],
   "source": [
    "dados.cdf(1)"
   ]
  },
  {
   "cell_type": "markdown",
   "metadata": {},
   "source": [
    "### iii."
   ]
  },
  {
   "cell_type": "code",
   "execution_count": 22,
   "metadata": {},
   "outputs": [
    {
     "output_type": "execute_result",
     "data": {
      "text/plain": "0.8753479805169189"
     },
     "metadata": {},
     "execution_count": 22
    }
   ],
   "source": [
    "1 - dados.cdf(2)"
   ]
  },
  {
   "cell_type": "markdown",
   "metadata": {},
   "source": [
    "### c)"
   ]
  },
  {
   "cell_type": "code",
   "execution_count": 23,
   "metadata": {},
   "outputs": [
    {
     "output_type": "execute_result",
     "data": {
      "text/plain": "0.05164885353175814"
     },
     "metadata": {},
     "execution_count": 23
    }
   ],
   "source": [
    "mu = 4 * 5 # (em 4 minutos)\n",
    "dados = poisson(mu)\n",
    "dados.pmf(15)"
   ]
  },
  {
   "cell_type": "markdown",
   "metadata": {},
   "source": [
    "### Exercício 04"
   ]
  },
  {
   "cell_type": "code",
   "execution_count": 37,
   "metadata": {},
   "outputs": [],
   "source": [
    "mu = 2.3 # por milímetro de fio\n",
    "dados = poisson(mu)"
   ]
  },
  {
   "cell_type": "markdown",
   "metadata": {},
   "source": [
    "### a)"
   ]
  },
  {
   "cell_type": "code",
   "execution_count": 38,
   "metadata": {},
   "outputs": [
    {
     "output_type": "execute_result",
     "data": {
      "text/plain": "0.2651846416468159"
     },
     "metadata": {},
     "execution_count": 38
    }
   ],
   "source": [
    "dados.pmf(2)"
   ]
  },
  {
   "cell_type": "markdown",
   "metadata": {},
   "source": [
    "### b)"
   ]
  },
  {
   "cell_type": "code",
   "execution_count": 39,
   "metadata": {},
   "outputs": [
    {
     "output_type": "execute_result",
     "data": {
      "text/plain": "0.20330822526255884"
     },
     "metadata": {},
     "execution_count": 39
    }
   ],
   "source": [
    "# Interpretação: \n",
    "#   De 2 a 4 é um intervalo fechado em 2 e em 4, ou seja, [2,3,4]\n",
    "#   Entre 2 e 4 é um intervalo aberto em 2 e em 4, ou seja, [3]\n",
    "dados.pmf(3)"
   ]
  },
  {
   "cell_type": "markdown",
   "metadata": {},
   "source": [
    "### c)"
   ]
  },
  {
   "cell_type": "code",
   "execution_count": 27,
   "metadata": {},
   "outputs": [
    {
     "output_type": "execute_result",
     "data": {
      "text/plain": "0.11293507088124335"
     },
     "metadata": {},
     "execution_count": 27
    }
   ],
   "source": [
    "mu = 2.3 * 5 # para 5 milímetros de fio\n",
    "dados = poisson(mu)\n",
    "dados.pmf(10)"
   ]
  },
  {
   "cell_type": "code",
   "execution_count": 28,
   "metadata": {},
   "outputs": [
    {
     "output_type": "execute_result",
     "data": {
      "text/plain": "0.9899481642553665"
     },
     "metadata": {},
     "execution_count": 28
    }
   ],
   "source": [
    "mu = 2.3 * 2 # para 2 milímetros de fio\n",
    "dados = poisson(mu)\n",
    "1 - dados.pmf(0)"
   ]
  },
  {
   "cell_type": "markdown",
   "metadata": {},
   "source": [
    "### Exercício 05"
   ]
  },
  {
   "cell_type": "code",
   "execution_count": 29,
   "metadata": {},
   "outputs": [],
   "source": [
    "mu = 0.1 # por metro quadrado\n",
    "dados = poisson(mu)"
   ]
  },
  {
   "cell_type": "markdown",
   "metadata": {},
   "source": [
    "### a)"
   ]
  },
  {
   "cell_type": "code",
   "execution_count": 30,
   "metadata": {},
   "outputs": [
    {
     "output_type": "execute_result",
     "data": {
      "text/plain": "0.004524187090179801"
     },
     "metadata": {},
     "execution_count": 30
    }
   ],
   "source": [
    "dados.pmf(2)"
   ]
  },
  {
   "cell_type": "markdown",
   "metadata": {},
   "source": [
    "### b)"
   ]
  },
  {
   "cell_type": "code",
   "execution_count": 31,
   "metadata": {},
   "outputs": [
    {
     "output_type": "execute_result",
     "data": {
      "text/plain": "0.36787944117144233"
     },
     "metadata": {},
     "execution_count": 31
    }
   ],
   "source": [
    "mu = 0.1 * 10 # para 10 metros quadrados\n",
    "dados = poisson(mu)\n",
    "dados.pmf(1)"
   ]
  },
  {
   "cell_type": "markdown",
   "metadata": {},
   "source": [
    "### c)"
   ]
  },
  {
   "cell_type": "code",
   "execution_count": 32,
   "metadata": {},
   "outputs": [
    {
     "output_type": "execute_result",
     "data": {
      "text/plain": "0.1353352832366127"
     },
     "metadata": {},
     "execution_count": 32
    }
   ],
   "source": [
    "mu = 0.1 * 20 # para 20 metros quadrados\n",
    "dados = poisson(mu)\n",
    "dados.pmf(0)"
   ]
  },
  {
   "cell_type": "markdown",
   "metadata": {},
   "source": [
    "### d)"
   ]
  },
  {
   "cell_type": "code",
   "execution_count": 33,
   "metadata": {},
   "outputs": [
    {
     "output_type": "execute_result",
     "data": {
      "text/plain": "0.26424111765711533"
     },
     "metadata": {},
     "execution_count": 33
    }
   ],
   "source": [
    "mu = 0.1 * 10 # para 10 metros quadrados\n",
    "dados = poisson(mu)\n",
    "1 - dados.cdf(1)"
   ]
  },
  {
   "cell_type": "markdown",
   "metadata": {},
   "source": [
    "### Exercício 06"
   ]
  },
  {
   "cell_type": "markdown",
   "metadata": {},
   "source": [
    "### a)"
   ]
  },
  {
   "cell_type": "code",
   "execution_count": 34,
   "metadata": {},
   "outputs": [
    {
     "output_type": "execute_result",
     "data": {
      "text/plain": "0.049787068367863944"
     },
     "metadata": {},
     "execution_count": 34
    }
   ],
   "source": [
    "mu = 6 / 2 # para 1/2 minuto (30 segs)\n",
    "dados = poisson(mu)\n",
    "dados.pmf(0)"
   ]
  },
  {
   "cell_type": "markdown",
   "metadata": {},
   "source": [
    "### b)"
   ]
  },
  {
   "cell_type": "code",
   "execution_count": 35,
   "metadata": {},
   "outputs": [
    {
     "output_type": "execute_result",
     "data": {
      "text/plain": "0.5768099188731564"
     },
     "metadata": {},
     "execution_count": 35
    }
   ],
   "source": [
    "1 - dados.cdf(2)"
   ]
  },
  {
   "cell_type": "markdown",
   "metadata": {},
   "source": [
    "## MODELOS PROBABILÍSTICOS - VARIÁVES CONTÍNUAS"
   ]
  },
  {
   "cell_type": "code",
   "execution_count": 48,
   "metadata": {},
   "outputs": [],
   "source": [
    "med = lambda alpha : 1 / alpha\n",
    "var = lambda alpha : 1 / (alpha ** 2)\n",
    "result = lambda alpha : print(f\"Média: {med(alpha)}, Variância: {var(alpha)}\")\n",
    "prob = lambda a, b, alpha : exp(-alpha*a)-exp(-alpha*b)"
   ]
  },
  {
   "cell_type": "markdown",
   "metadata": {},
   "source": [
    "### Exercício resolvido (pág 2)"
   ]
  },
  {
   "cell_type": "markdown",
   "metadata": {},
   "source": [
    "### 1) a)"
   ]
  },
  {
   "cell_type": "code",
   "execution_count": 54,
   "metadata": {},
   "outputs": [
    {
     "output_type": "execute_result",
     "data": {
      "text/plain": "8000.0"
     },
     "metadata": {},
     "execution_count": 54
    }
   ],
   "source": [
    "alpha = 1/8000 # horas\n",
    "med(alpha)"
   ]
  },
  {
   "cell_type": "markdown",
   "metadata": {},
   "source": [
    "### b)"
   ]
  },
  {
   "cell_type": "code",
   "execution_count": 53,
   "metadata": {},
   "outputs": [
    {
     "output_type": "execute_result",
     "data": {
      "text/plain": "0.6065306597126334"
     },
     "metadata": {},
     "execution_count": 53
    }
   ],
   "source": [
    "a = 0\n",
    "b = 4000\n",
    "1 - prob(a, b, alpha)"
   ]
  },
  {
   "cell_type": "markdown",
   "metadata": {},
   "source": [
    "### c)"
   ]
  },
  {
   "cell_type": "code",
   "execution_count": 56,
   "metadata": {},
   "outputs": [
    {
     "output_type": "execute_result",
     "data": {
      "text/plain": "0.006230509376605298"
     },
     "metadata": {},
     "execution_count": 56
    }
   ],
   "source": [
    "a = 0\n",
    "b = 50\n",
    "prob(a, b, alpha)"
   ]
  },
  {
   "cell_type": "markdown",
   "metadata": {},
   "source": [
    "### d)"
   ]
  },
  {
   "cell_type": "code",
   "execution_count": 58,
   "metadata": {},
   "outputs": [
    {
     "output_type": "execute_result",
     "data": {
      "text/plain": "0.6065306597126334"
     },
     "metadata": {},
     "execution_count": 58
    }
   ],
   "source": [
    "a = 0\n",
    "b = 4000\n",
    "1 - prob(a, b, alpha)"
   ]
  },
  {
   "cell_type": "markdown",
   "metadata": {},
   "source": [
    "### Exercício 01\n",
    "### a)"
   ]
  },
  {
   "cell_type": "code",
   "execution_count": 61,
   "metadata": {},
   "outputs": [
    {
     "output_type": "execute_result",
     "data": {
      "text/plain": "0.6321205588285577"
     },
     "metadata": {},
     "execution_count": 61
    }
   ],
   "source": [
    "med = 1000\n",
    "alpha = 1/med\n",
    "\n",
    "prob(0,1000, alpha)"
   ]
  },
  {
   "cell_type": "markdown",
   "metadata": {},
   "source": [
    "### b) ???"
   ]
  },
  {
   "cell_type": "markdown",
   "metadata": {},
   "source": [
    "### Exercício 02\n",
    "### a) ???"
   ]
  },
  {
   "cell_type": "code",
   "execution_count": 68,
   "metadata": {},
   "outputs": [
    {
     "output_type": "execute_result",
     "data": {
      "text/plain": "0.6543842380316325"
     },
     "metadata": {},
     "execution_count": 68
    }
   ],
   "source": [
    "alpha_a = 1/80\n",
    "alpha_b = 1/100\n",
    "\n",
    "(1-prob(0,100,alpha_a))+(1-prob(0,100,alpha_b))"
   ]
  },
  {
   "cell_type": "code",
   "execution_count": null,
   "metadata": {},
   "outputs": [],
   "source": []
  }
 ],
 "metadata": {
  "language_info": {
   "codemirror_mode": {
    "name": "ipython",
    "version": 3
   },
   "file_extension": ".py",
   "mimetype": "text/x-python",
   "name": "python",
   "nbconvert_exporter": "python",
   "pygments_lexer": "ipython3",
   "version": "3.7.7-final"
  },
  "orig_nbformat": 2,
  "kernelspec": {
   "name": "python3",
   "display_name": "Python 3"
  }
 },
 "nbformat": 4,
 "nbformat_minor": 2
}