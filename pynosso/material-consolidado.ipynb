{
 "cells": [
  {
   "cell_type": "markdown",
   "metadata": {},
   "source": [
    "## ESTATÍSTICA \n",
    "## Material Consolidado"
   ]
  },
  {
   "cell_type": "code",
   "execution_count": 37,
   "metadata": {},
   "outputs": [],
   "source": [
    "import numpy as np\n",
    "from math import sqrt, exp\n",
    "from statistics import stdev"
   ]
  },
  {
   "cell_type": "code",
   "execution_count": 53,
   "metadata": {},
   "outputs": [],
   "source": [
    "from scipy.stats import binom, poisson"
   ]
  },
  {
   "cell_type": "code",
   "execution_count": 39,
   "metadata": {},
   "outputs": [],
   "source": [
    "from stats import binomial as bi\n",
    "from stats import exponencial as xp\n",
    "from stats import poisson as po\n",
    "from stats import normal as nm\n",
    "from stats import inferencia as inf\n",
    "from stats import hipoteses as hip"
   ]
  },
  {
   "cell_type": "markdown",
   "metadata": {},
   "source": [
    "## MODELOS PROBABILÍSTICOS - VARIÁVEIS DISCRETAS"
   ]
  },
  {
   "cell_type": "markdown",
   "metadata": {},
   "source": [
    "## Distribuição Binomial"
   ]
  },
  {
   "cell_type": "code",
   "execution_count": 62,
   "metadata": {},
   "outputs": [
    {
     "output_type": "stream",
     "name": "stdout",
     "text": "Média: 3.0, Variância: 2.0999999999999996, Desvio: 1.4491376746189437\nNone\n0.5698682262000003\n0.5698682261999999\n"
    }
   ],
   "source": [
    "n = 10\n",
    "p = 0.3\n",
    "prob = binom(n,p)\n",
    "result = lambda n, p : print(f\"Média: {binom.mean(n, p)}, Variância: {binom.var(n, p)}, Desvio: {binom.std(n, p)}\")\n",
    "print(result(n, p))\n",
    "print(prob.pmf(3)+prob.pmf(4)+prob.pmf(5))\n",
    "print(prob.cdf(5)-prob.cdf(2)) # conferir"
   ]
  },
  {
   "cell_type": "markdown",
   "metadata": {},
   "source": [
    "## Distribuição de Poisson"
   ]
  },
  {
   "cell_type": "code",
   "execution_count": 54,
   "metadata": {},
   "outputs": [
    {
     "output_type": "execute_result",
     "data": {
      "text/plain": "0.01770701755263633"
     },
     "metadata": {},
     "execution_count": 54
    }
   ],
   "source": [
    "mu = 5*8 # por hora\n",
    "prob = poisson(mu)\n",
    "prob.pmf(50)"
   ]
  },
  {
   "cell_type": "markdown",
   "metadata": {},
   "source": [
    "## MODELOS PROBABILÍSTICOS - VARIÁVES CONTÍNUAS"
   ]
  },
  {
   "cell_type": "markdown",
   "metadata": {},
   "source": [
    "## Distribuição Exponencial"
   ]
  },
  {
   "cell_type": "code",
   "execution_count": 65,
   "metadata": {},
   "outputs": [],
   "source": [
    "med = lambda alpha : 1 / alpha\n",
    "var = lambda alpha : 1 / (alpha ** 2)\n",
    "result = lambda alpha : print(f\"Média: {med(alpha)}, Variância: {var(alpha)}\")\n",
    "prob = lambda a, b, alpha : exp(-alpha*a)-exp(-alpha*b)"
   ]
  },
  {
   "cell_type": "code",
   "execution_count": 66,
   "metadata": {},
   "outputs": [
    {
     "output_type": "execute_result",
     "data": {
      "text/plain": "0.950212931632136"
     },
     "metadata": {},
     "execution_count": 66
    }
   ],
   "source": [
    "alpha = 3\n",
    "a = 0\n",
    "b = 1\n",
    "prob(a, b, alpha)"
   ]
  },
  {
   "cell_type": "markdown",
   "metadata": {},
   "source": [
    "## INFERENCIA"
   ]
  },
  {
   "cell_type": "markdown",
   "metadata": {},
   "source": [
    "## Tamanho da amostra  - MÉDIA(população infinita)"
   ]
  },
  {
   "cell_type": "code",
   "execution_count": 41,
   "metadata": {},
   "outputs": [
    {
     "output_type": "stream",
     "name": "stdout",
     "text": "Tamanho recomendado da amostra: 467.0000\n"
    }
   ],
   "source": [
    "sigma = sqrt(0.1764)\n",
    "alpha = 0.01 # 99%\n",
    "z =2.57\n",
    "e = 0.05\n",
    "n = inf.media_tamanho_amostra(z, sigma, e)\n",
    "print(\"Tamanho recomendado da amostra: {:6.4f}\".format(n))"
   ]
  },
  {
   "cell_type": "markdown",
   "metadata": {},
   "source": [
    "## Tamanho da amostra  - MÉDIA(população finita)"
   ]
  },
  {
   "cell_type": "code",
   "execution_count": 42,
   "metadata": {},
   "outputs": [
    {
     "output_type": "stream",
     "name": "stdout",
     "text": "Tamanho recomendado da amostra: 367.0000\n"
    }
   ],
   "source": [
    "sigma = 7000 \n",
    "z = 1.64\n",
    "e = 600\n",
    "n = inf.media_tamanho_amostra(z, sigma, e)\n",
    "print(\"Tamanho recomendado da amostra: {:6.4f}\".format(n))"
   ]
  },
  {
   "cell_type": "markdown",
   "metadata": {},
   "source": [
    "## Tamanho da amostra - PROPORÇÃO (população infinita)"
   ]
  },
  {
   "cell_type": "code",
   "execution_count": 43,
   "metadata": {},
   "outputs": [
    {
     "output_type": "stream",
     "name": "stdout",
     "text": "Tamanho recomendado da amostra: 1076.0000\n"
    }
   ],
   "source": [
    "z = 1.64\n",
    "pa = 0.5\n",
    "e = 0.025\n",
    "n = inf.prop_tamanho_amostra(z, pa, e)\n",
    "print(\"Tamanho recomendado da amostra: {:6.4f}\".format(n))"
   ]
  },
  {
   "cell_type": "markdown",
   "metadata": {},
   "source": [
    "## Tamanho da amostra - PROPORÇÃO (população finita)"
   ]
  },
  {
   "cell_type": "code",
   "execution_count": 44,
   "metadata": {},
   "outputs": [
    {
     "output_type": "stream",
     "name": "stdout",
     "text": "Tamanho recomendado da amostra: 317.0000\n"
    }
   ],
   "source": [
    "N = 1286\n",
    "z = 1.64\n",
    "pa = 0.5\n",
    "e = 0.04\n",
    "n = inf.prop_tamanho_amostra(z, pa, e, N)\n",
    "print(\"Tamanho recomendado da amostra: {:6.4f}\".format(n))"
   ]
  },
  {
   "cell_type": "markdown",
   "metadata": {},
   "source": [
    "## TESTES DE HIPÓTESES"
   ]
  },
  {
   "cell_type": "markdown",
   "metadata": {},
   "source": [
    "## Teste t para uma média (desvio desconhecido)"
   ]
  },
  {
   "cell_type": "code",
   "execution_count": 45,
   "metadata": {},
   "outputs": [
    {
     "output_type": "execute_result",
     "data": {
      "text/plain": "1.2348"
     },
     "metadata": {},
     "execution_count": 45
    }
   ],
   "source": [
    "# H0: med <= 7 \n",
    "# Ha: med > 7 \n",
    "\n",
    "xhat = 7.25\n",
    "mu0 = 7\n",
    "s = 1.052\n",
    "alpha = 0.05\n",
    "n = 27\n",
    "tt = hip.media_testet(xhat, mu0, s, n)\n",
    "tt"
   ]
  },
  {
   "cell_type": "markdown",
   "metadata": {},
   "source": [
    "## Teste t para duas médias (amostras dependentes)"
   ]
  },
  {
   "cell_type": "code",
   "execution_count": 46,
   "metadata": {},
   "outputs": [
    {
     "output_type": "stream",
     "name": "stdout",
     "text": "[16 15 11 20 19 14 13 15 14 16]\n[13 13 12 16 16 11 10 15  9 16]\n[ 3  2 -1  4  3  3  3  0  5  0]\n"
    }
   ],
   "source": [
    "x = np.array([16, 15, 11, 20, 19, 14, 13, 15, 14, 16])\n",
    "y = np.array([13, 13, 12, 16, 16, 11, 10, 15, 9, 16])\n",
    "di = x - y\n",
    "print(x)\n",
    "print\n",
    "print(y)\n",
    "print(di)"
   ]
  },
  {
   "cell_type": "code",
   "execution_count": 47,
   "metadata": {},
   "outputs": [
    {
     "output_type": "stream",
     "name": "stdout",
     "text": "n:     10 Média di:     2.2000 Desvio Padrão di:     1.9322\n"
    }
   ],
   "source": [
    "n = len(di)\n",
    "di_med = di.mean()\n",
    "di_std = di.std(ddof = 1)\n",
    "print(\"n: {:6} Média di: {:10.4f} Desvio Padrão di: {:10.4f}\".format(n, di_med, di_std))"
   ]
  },
  {
   "cell_type": "code",
   "execution_count": 48,
   "metadata": {},
   "outputs": [
    {
     "output_type": "execute_result",
     "data": {
      "text/plain": "3.6006"
     },
     "metadata": {},
     "execution_count": 48
    }
   ],
   "source": [
    "tp = hip.media_testet_amostras_dependentes(di_med, di_std, n)\n",
    "tp"
   ]
  },
  {
   "cell_type": "markdown",
   "metadata": {},
   "source": [
    "## Teste F para comparação de duas variâncias"
   ]
  },
  {
   "cell_type": "code",
   "execution_count": 49,
   "metadata": {},
   "outputs": [
    {
     "output_type": "stream",
     "name": "stdout",
     "text": "F:   1.44 FL: 0.4543  FR:  2.272 \n"
    }
   ],
   "source": [
    "n1 = 28\n",
    "n2 = 22\n",
    "s1 = 150**2\n",
    "s2 = 125**2\n",
    "F = s1/s2\n",
    "FL = 1/2.201\n",
    "FR = 2.272\n",
    "print(\"F: {:6.4} FL: {:6.4}  FR: {:6.4} \".format(F, FL, FR))"
   ]
  },
  {
   "cell_type": "markdown",
   "metadata": {},
   "source": [
    "## Teste t para duas médias (amostras independentes)"
   ]
  },
  {
   "cell_type": "markdown",
   "metadata": {},
   "source": [
    "#### Populações Homocedásticas"
   ]
  },
  {
   "cell_type": "code",
   "execution_count": 50,
   "metadata": {},
   "outputs": [
    {
     "output_type": "stream",
     "name": "stdout",
     "text": "Graus de liberdade: 48\nt = 2.8912\n"
    }
   ],
   "source": [
    "n1 = 28\n",
    "n2 = 22 \n",
    "s1 = 150**2\n",
    "s2 = 125**2\n",
    "x1 = 1025\n",
    "x2 = 910\n",
    "t = hip.media_testet_amostras_independentes(x1, x2, n1, n2, s1, s2, True)\n",
    "gl = n1 + n2 -2\n",
    "print(\"Graus de liberdade: {}\".format(gl))\n",
    "print(\"t = {:6.4f}\".format(t))"
   ]
  },
  {
   "cell_type": "markdown",
   "metadata": {},
   "source": [
    "#### Populações Heterocedásticas"
   ]
  },
  {
   "cell_type": "code",
   "execution_count": 51,
   "metadata": {},
   "outputs": [
    {
     "output_type": "stream",
     "name": "stdout",
     "text": "Graus de liberdade: 35\nt = 0.0008\n"
    }
   ],
   "source": [
    "n1 = 28\n",
    "n2 = 22 \n",
    "s1 = 150**2\n",
    "s2 = 125**2\n",
    "x1 = 0.81\n",
    "x2 = 0.78\n",
    "t = hip.media_testet_amostras_independentes(x1, x2, n1, n2, s1, s2, False)\n",
    "gl = 35\n",
    "print(\"Graus de liberdade: {}\".format(gl))\n",
    "print(\"t = {:6.4f}\".format(t))"
   ]
  }
 ],
 "metadata": {
  "language_info": {
   "codemirror_mode": {
    "name": "ipython",
    "version": 3
   },
   "file_extension": ".py",
   "mimetype": "text/x-python",
   "name": "python",
   "nbconvert_exporter": "python",
   "pygments_lexer": "ipython3",
   "version": "3.6.9-final"
  },
  "orig_nbformat": 2,
  "kernelspec": {
   "name": "python36964bit5008fee065c0486d9a6cd0a51eb88184",
   "display_name": "Python 3.6.9 64-bit"
  }
 },
 "nbformat": 4,
 "nbformat_minor": 2
}