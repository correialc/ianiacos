{
 "cells": [
  {
   "cell_type": "markdown",
   "metadata": {},
   "source": [
    "## ESTATÍSTICA \n",
    "## Material Consolidado"
   ]
  },
  {
   "cell_type": "code",
   "execution_count": 11,
   "metadata": {},
   "outputs": [],
   "source": [
    "import numpy as np\n",
    "from math import sqrt\n",
    "from statistics import stdev"
   ]
  },
  {
   "cell_type": "code",
   "execution_count": 12,
   "metadata": {},
   "outputs": [],
   "source": [
    "from stats import binomial as bi\n",
    "from stats import exponencial as xp\n",
    "from stats import poisson as po\n",
    "from stats import normal as nm\n",
    "from stats import inferencia as inf\n",
    "from stats import hipoteses as hip"
   ]
  },
  {
   "cell_type": "markdown",
   "metadata": {},
   "source": [
    "## TESTES DE HIPÓTESES"
   ]
  },
  {
   "cell_type": "markdown",
   "metadata": {},
   "source": [
    "## Teste t para duas médias (amostras dependentes)"
   ]
  },
  {
   "cell_type": "code",
   "execution_count": 13,
   "metadata": {},
   "outputs": [
    {
     "output_type": "stream",
     "name": "stdout",
     "text": "[200 174 198 170 179]\n[191 170 177 167 159]\n[ 9  4 21  3 20]\n"
    }
   ],
   "source": [
    "x = np.array([200, 174, 198, 170, 179])\n",
    "y = np.array([191, 170, 177, 167, 159])\n",
    "di = x - y\n",
    "print(x)\n",
    "print\n",
    "print(y)\n",
    "print(di)"
   ]
  },
  {
   "cell_type": "code",
   "execution_count": 14,
   "metadata": {},
   "outputs": [
    {
     "output_type": "stream",
     "name": "stdout",
     "text": "n:      5 Média di:    11.4000 Desvio Padrão di:     8.6197\n"
    }
   ],
   "source": [
    "n = len(di)\n",
    "di_med = di.mean()\n",
    "di_std = di.std(ddof = 1)\n",
    "print(\"n: {:6} Média di: {:10.4f} Desvio Padrão di: {:10.4f}\".format(n, di_med, di_std))"
   ]
  },
  {
   "cell_type": "code",
   "execution_count": 15,
   "metadata": {},
   "outputs": [
    {
     "output_type": "execute_result",
     "data": {
      "text/plain": "2.9573"
     },
     "metadata": {},
     "execution_count": 15
    }
   ],
   "source": [
    "tp = hip.media_testet_amostras_dependentes(di_med, di_std, n)\n",
    "tp"
   ]
  },
  {
   "cell_type": "markdown",
   "metadata": {},
   "source": [
    "## Teste F para comparação de duas variâncias"
   ]
  },
  {
   "cell_type": "code",
   "execution_count": 16,
   "metadata": {},
   "outputs": [
    {
     "output_type": "stream",
     "name": "stdout",
     "text": "F: 0.2226 FL: 0.4527  FR:  2.154 \n"
    }
   ],
   "source": [
    "n1 = 25\n",
    "n2 = 30\n",
    "s1 = 1.3623**2\n",
    "s2 = 2.8876**2\n",
    "F = s1/s2\n",
    "FL = 1/2.209\n",
    "FR = 2.154\n",
    "print(\"F: {:6.4} FL: {:6.4}  FR: {:6.4} \".format(F, FL, FR))"
   ]
  },
  {
   "cell_type": "markdown",
   "metadata": {},
   "source": [
    "## Teste t para duas médias (amostras independentes)"
   ]
  },
  {
   "cell_type": "markdown",
   "metadata": {},
   "source": [
    "#### Populações Homocedásticas"
   ]
  },
  {
   "cell_type": "code",
   "execution_count": 17,
   "metadata": {},
   "outputs": [
    {
     "output_type": "stream",
     "name": "stdout",
     "text": "Graus de liberdade: 22\nt = 1.3935\n"
    }
   ],
   "source": [
    "n1 = 14\n",
    "n2 = 10 \n",
    "s1 = 16**2\n",
    "s2 = 15**2\n",
    "x1 = 121\n",
    "x2 = 112\n",
    "t = hip.media_testet_amostras_independentes(x1, x2, n1, n2, s1, s2, True)\n",
    "gl = n1 + n2 -2\n",
    "print(\"Graus de liberdade: {}\".format(gl))\n",
    "print(\"t = {:6.4f}\".format(t))"
   ]
  },
  {
   "cell_type": "markdown",
   "metadata": {},
   "source": [
    "#### Populações Heterocedásticas"
   ]
  },
  {
   "cell_type": "code",
   "execution_count": 18,
   "metadata": {},
   "outputs": [
    {
     "output_type": "stream",
     "name": "stdout",
     "text": "Graus de liberdade: 35\nt = 4.7333\n"
    }
   ],
   "source": [
    "n1 = 36\n",
    "n2 = 39 \n",
    "s1 = 0.00020\n",
    "s2 = 0.00135\n",
    "x1 = 0.81\n",
    "x2 = 0.78\n",
    "t = hip.media_testet_amostras_independentes(x1, x2, n1, n2, s1, s2, False)\n",
    "gl = 35\n",
    "print(\"Graus de liberdade: {}\".format(gl))\n",
    "print(\"t = {:6.4f}\".format(t))"
   ]
  }
 ],
 "metadata": {
  "language_info": {
   "codemirror_mode": {
    "name": "ipython",
    "version": 3
   },
   "file_extension": ".py",
   "mimetype": "text/x-python",
   "name": "python",
   "nbconvert_exporter": "python",
   "pygments_lexer": "ipython3",
   "version": "3.6.9-final"
  },
  "orig_nbformat": 2,
  "kernelspec": {
   "name": "python36964bit5008fee065c0486d9a6cd0a51eb88184",
   "display_name": "Python 3.6.9 64-bit"
  }
 },
 "nbformat": 4,
 "nbformat_minor": 2
}