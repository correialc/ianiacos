{
 "cells": [
  {
   "cell_type": "markdown",
   "metadata": {},
   "source": [
    "# Exercícios de Estatística\n",
    "## INFERÊNCIA ESTATÍSTICA"
   ]
  },
  {
   "cell_type": "code",
   "execution_count": 1,
   "metadata": {},
   "outputs": [],
   "source": [
    "from stats import inferencia as inf\n",
    "import numpy as np"
   ]
  },
  {
   "cell_type": "markdown",
   "metadata": {},
   "source": [
    "### Exercício 01\n"
   ]
  },
  {
   "cell_type": "code",
   "execution_count": 3,
   "metadata": {},
   "outputs": [],
   "source": [
    "dp_pop = 1.5\n",
    "n = 20\n",
    "med_amo = 22.9"
   ]
  },
  {
   "cell_type": "markdown",
   "metadata": {},
   "source": [
    "### a) med_est = med_amo = 22.9"
   ]
  },
  {
   "cell_type": "markdown",
   "metadata": {},
   "source": [
    "### b)"
   ]
  },
  {
   "cell_type": "code",
   "execution_count": 8,
   "metadata": {},
   "outputs": [
    {
     "output_type": "stream",
     "name": "stdout",
     "text": "Intervalo confiança é de 22.3499 a 23.4501\n"
    }
   ],
   "source": [
    "alpha = 0.1 # 90% de confiança\n",
    "z = 1.64\n",
    "e = inf.calc_margem_erro(z, dp_pop, n)\n",
    "print(\"Intervalo confiança é de {:6.4f} a {:6.4f}\".format(med_amo-e, med_amo+e))"
   ]
  },
  {
   "cell_type": "markdown",
   "metadata": {},
   "source": [
    "### Exercício 02"
   ]
  },
  {
   "cell_type": "code",
   "execution_count": 21,
   "metadata": {},
   "outputs": [
    {
     "output_type": "stream",
     "name": "stdout",
     "text": "Intervalo confiança é de 3426.3889 a 3578.0556\n"
    }
   ],
   "source": [
    "dp_pop = 130\n",
    "amo = np.array([3810, 3690, 3350, 3400, 3320, 3250, 3430, 3600, 3670])\n",
    "med_amo = amo.mean()\n",
    "n = len(amo)\n",
    "alpha = 0.08 # 92% de confiança\n",
    "z = 1.75\n",
    "e = inf.calc_margem_erro(z, dp_pop, n)\n",
    "print(\"Intervalo confiança é de {:6.4f} a {:6.4f}\".format(med_amo-e, med_amo+e))"
   ]
  },
  {
   "cell_type": "markdown",
   "metadata": {},
   "source": [
    "### Exemplo 02 (complementar)\n",
    "### a)"
   ]
  },
  {
   "cell_type": "code",
   "execution_count": 2,
   "metadata": {},
   "outputs": [
    {
     "output_type": "stream",
     "name": "stdout",
     "text": "Tamanho recomendado da amostra: 151.0000\n"
    }
   ],
   "source": [
    "dp_pop = 6250\n",
    "alpha = 0.05 # 95%\n",
    "z =1.96\n",
    "e = 1000\n",
    "n = inf.tamanho_amostra(z, dp_pop, e)\n",
    "print(\"Tamanho recomendado da amostra: {:6.4f}\".format(n))"
   ]
  },
  {
   "cell_type": "markdown",
   "metadata": {},
   "source": [
    "### b)"
   ]
  },
  {
   "cell_type": "code",
   "execution_count": 4,
   "metadata": {},
   "outputs": [
    {
     "output_type": "stream",
     "name": "stdout",
     "text": "Tamanho recomendado da amostra: 1296.0000\n"
    }
   ],
   "source": [
    "dp_pop = 6250\n",
    "alpha = 0.15 # 85%\n",
    "z = 1.44\n",
    "e = 250\n",
    "n = inf.tamanho_amostra(z, dp_pop, e)\n",
    "print(\"Tamanho recomendado da amostra: {:6.4f}\".format(n))"
   ]
  },
  {
   "cell_type": "markdown",
   "metadata": {},
   "source": [
    "### Exemplo 03 (complementar)\n",
    "### a)"
   ]
  },
  {
   "cell_type": "code",
   "execution_count": 6,
   "metadata": {},
   "outputs": [
    {
     "output_type": "stream",
     "name": "stdout",
     "text": "Tamanho recomendado da amostra: 367.0000\n"
    }
   ],
   "source": [
    "dp_pop = 7000 \n",
    "z = 1.64\n",
    "e = 600\n",
    "n = inf.tamanho_amostra(z, dp_pop, e)\n",
    "print(\"Tamanho recomendado da amostra: {:6.4f}\".format(n))"
   ]
  },
  {
   "cell_type": "markdown",
   "metadata": {},
   "source": [
    "### b)"
   ]
  },
  {
   "cell_type": "code",
   "execution_count": 3,
   "metadata": {},
   "outputs": [
    {
     "output_type": "stream",
     "name": "stdout",
     "text": "Tamanho recomendado da amostra: 76.0000\n"
    }
   ],
   "source": [
    "dp_pop = 7000 \n",
    "z = 1.64\n",
    "e = 1200\n",
    "N = 420\n",
    "n = inf.tamanho_amostra(z, dp_pop, e, popfin=True, N=N)\n",
    "print(\"Tamanho recomendado da amostra: {:6.4f}\".format(n))"
   ]
  },
  {
   "cell_type": "markdown",
   "metadata": {},
   "source": [
    "### c)"
   ]
  },
  {
   "cell_type": "code",
   "execution_count": 4,
   "metadata": {},
   "outputs": [
    {
     "output_type": "stream",
     "name": "stdout",
     "text": "Tamanho recomendado da amostra: 146.0000\n"
    }
   ],
   "source": [
    "dp_pop = 7000 \n",
    "alpha = 0.2 # 80% de confiança\n",
    "z = 1.28\n",
    "e = 600\n",
    "N = 420\n",
    "n = inf.tamanho_amostra(z, dp_pop, e, popfin=True, N=N)\n",
    "print(\"Tamanho recomendado da amostra: {:6.4f}\".format(n))"
   ]
  },
  {
   "cell_type": "markdown",
   "metadata": {},
   "source": [
    "### Exercício 03\n",
    "### a)"
   ]
  },
  {
   "cell_type": "code",
   "execution_count": 6,
   "metadata": {},
   "outputs": [
    {
     "output_type": "stream",
     "name": "stdout",
     "text": "Tamanho recomendado da amostra: 246.0000\n"
    }
   ],
   "source": [
    "alpha = 0.05 # 95% de confiança\n",
    "z = 1.96\n",
    "e = 50\n",
    "dp_pop = 400\n",
    "n = inf.tamanho_amostra(z, dp_pop, e)\n",
    "print(\"Tamanho recomendado da amostra: {:6.4f}\".format(n))"
   ]
  },
  {
   "cell_type": "markdown",
   "metadata": {},
   "source": [
    "### b)"
   ]
  },
  {
   "cell_type": "code",
   "execution_count": 7,
   "metadata": {},
   "outputs": [
    {
     "output_type": "stream",
     "name": "stdout",
     "text": "Tamanho recomendado da amostra: 984.0000\n"
    }
   ],
   "source": [
    "alpha = 0.05 # 95% de confiança\n",
    "z = 1.96\n",
    "e = 25\n",
    "dp_pop = 400\n",
    "n = inf.tamanho_amostra(z, dp_pop, e)\n",
    "print(\"Tamanho recomendado da amostra: {:6.4f}\".format(n))"
   ]
  },
  {
   "cell_type": "markdown",
   "metadata": {},
   "source": [
    "### c)"
   ]
  },
  {
   "cell_type": "code",
   "execution_count": 9,
   "metadata": {},
   "outputs": [
    {
     "output_type": "stream",
     "name": "stdout",
     "text": "Tamanho recomendado da amostra: 131.0000\n"
    }
   ],
   "source": [
    "alpha = 0.08 # 95% de confiança\n",
    "z = 1.75\n",
    "e = 50\n",
    "dp_pop = 400\n",
    "N = 386\n",
    "n = inf.tamanho_amostra(z, dp_pop, e, popfin=True, N=386)\n",
    "print(\"Tamanho recomendado da amostra: {:6.4f}\".format(n))"
   ]
  },
  {
   "cell_type": "markdown",
   "metadata": {},
   "source": [
    "### Exercício 04\n",
    "### a)"
   ]
  },
  {
   "cell_type": "code",
   "execution_count": 13,
   "metadata": {},
   "outputs": [
    {
     "output_type": "stream",
     "name": "stdout",
     "text": "Intervalo confiança é de 303.9800 a 356.0200\n"
    }
   ],
   "source": [
    "n = 16\n",
    "gl = n-1 # grau de liberdade\n",
    "med_amo = 330\n",
    "dp_amo = 40\n",
    "alpha = 0.02\n",
    "t = 2.602\n",
    "e = inf.margem_erro(t, dp_amo, n)\n",
    "print(\"Intervalo confiança é de {:6.4f} a {:6.4f}\".format(med_amo-e, med_amo+e))"
   ]
  },
  {
   "cell_type": "code",
   "execution_count": null,
   "metadata": {},
   "outputs": [],
   "source": []
  }
 ],
 "metadata": {
  "language_info": {
   "codemirror_mode": {
    "name": "ipython",
    "version": 3
   },
   "file_extension": ".py",
   "mimetype": "text/x-python",
   "name": "python",
   "nbconvert_exporter": "python",
   "pygments_lexer": "ipython3",
   "version": "3.6.9-final"
  },
  "orig_nbformat": 2,
  "kernelspec": {
   "name": "python36964bit5008fee065c0486d9a6cd0a51eb88184",
   "display_name": "Python 3.6.9 64-bit"
  }
 },
 "nbformat": 4,
 "nbformat_minor": 2
}