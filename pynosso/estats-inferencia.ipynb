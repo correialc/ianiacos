{
 "cells": [
  {
   "cell_type": "markdown",
   "metadata": {},
   "source": [
    "# Exercícios de Estatística\n",
    "## INFERÊNCIA ESTATÍSTICA"
   ]
  },
  {
   "cell_type": "code",
   "execution_count": 1,
   "metadata": {},
   "outputs": [],
   "source": [
    "from stats import inferencia as inf\n",
    "import numpy as np"
   ]
  },
  {
   "cell_type": "markdown",
   "metadata": {},
   "source": [
    "## INTERVALO DE CONFIANÇA PARA MÉDIA"
   ]
  },
  {
   "cell_type": "markdown",
   "metadata": {},
   "source": [
    "### Exercício 01\n"
   ]
  },
  {
   "cell_type": "code",
   "execution_count": 2,
   "metadata": {},
   "outputs": [],
   "source": [
    "sigma = 1.5\n",
    "n = 20\n",
    "med_amo = 22.9"
   ]
  },
  {
   "cell_type": "markdown",
   "metadata": {},
   "source": [
    "### a) med_est = med_amo = 22.9"
   ]
  },
  {
   "cell_type": "markdown",
   "metadata": {},
   "source": [
    "### b)"
   ]
  },
  {
   "cell_type": "code",
   "execution_count": 3,
   "metadata": {},
   "outputs": [
    {
     "output_type": "stream",
     "name": "stdout",
     "text": "Intervalo confiança é de 22.3499 a 23.4501\n"
    }
   ],
   "source": [
    "alpha = 0.1 # 90% de confiança\n",
    "z = 1.64\n",
    "e = inf.media_margem_erro(z, sigma, n)\n",
    "print(\"Intervalo confiança é de {:6.4f} a {:6.4f}\".format(med_amo-e, med_amo+e))"
   ]
  },
  {
   "cell_type": "markdown",
   "metadata": {},
   "source": [
    "### Exercício 02"
   ]
  },
  {
   "cell_type": "code",
   "execution_count": 4,
   "metadata": {},
   "outputs": [
    {
     "output_type": "stream",
     "name": "stdout",
     "text": "Intervalo confiança é de 3426.3889 a 3578.0555\n"
    }
   ],
   "source": [
    "sigma = 130\n",
    "amo = np.array([3810, 3690, 3350, 3400, 3320, 3250, 3430, 3600, 3670])\n",
    "med_amo = amo.mean()\n",
    "n = len(amo)\n",
    "alpha = 0.08 # 92% de confiança\n",
    "z = 1.75\n",
    "e = inf.media_margem_erro(z, sigma, n)\n",
    "print(\"Intervalo confiança é de {:6.4f} a {:6.4f}\".format(med_amo-e, med_amo+e))"
   ]
  },
  {
   "cell_type": "markdown",
   "metadata": {},
   "source": [
    "## Determinação do tamanho da amostra (população infinita)"
   ]
  },
  {
   "cell_type": "markdown",
   "metadata": {},
   "source": [
    "### Exemplo 02 (complementar)\n",
    "### a)"
   ]
  },
  {
   "cell_type": "code",
   "execution_count": 5,
   "metadata": {},
   "outputs": [
    {
     "output_type": "stream",
     "name": "stdout",
     "text": "Tamanho recomendado da amostra: 151.0000\n"
    }
   ],
   "source": [
    "sigma = 6250\n",
    "alpha = 0.05 # 95%\n",
    "z =1.96\n",
    "e = 1000\n",
    "n = inf.media_tamanho_amostra(z, sigma, e)\n",
    "print(\"Tamanho recomendado da amostra: {:6.4f}\".format(n))"
   ]
  },
  {
   "cell_type": "markdown",
   "metadata": {},
   "source": [
    "### b)"
   ]
  },
  {
   "cell_type": "code",
   "execution_count": 6,
   "metadata": {},
   "outputs": [
    {
     "output_type": "stream",
     "name": "stdout",
     "text": "Tamanho recomendado da amostra: 1296.0000\n"
    }
   ],
   "source": [
    "sigma = 6250\n",
    "alpha = 0.15 # 85%\n",
    "z = 1.44\n",
    "e = 250\n",
    "n = inf.media_tamanho_amostra(z, sigma, e)\n",
    "print(\"Tamanho recomendado da amostra: {:6.4f}\".format(n))"
   ]
  },
  {
   "cell_type": "markdown",
   "metadata": {},
   "source": [
    "## Determinação do tamanho da amostra (população finita)"
   ]
  },
  {
   "cell_type": "markdown",
   "metadata": {},
   "source": [
    "### Exemplo 03 (complementar)\n",
    "### a)"
   ]
  },
  {
   "cell_type": "code",
   "execution_count": 7,
   "metadata": {},
   "outputs": [
    {
     "output_type": "stream",
     "name": "stdout",
     "text": "Tamanho recomendado da amostra: 367.0000\n"
    }
   ],
   "source": [
    "sigma = 7000 \n",
    "z = 1.64\n",
    "e = 600\n",
    "n = inf.media_tamanho_amostra(z, sigma, e)\n",
    "print(\"Tamanho recomendado da amostra: {:6.4f}\".format(n))"
   ]
  },
  {
   "cell_type": "markdown",
   "metadata": {},
   "source": [
    "### b)"
   ]
  },
  {
   "cell_type": "code",
   "execution_count": 8,
   "metadata": {},
   "outputs": [
    {
     "output_type": "stream",
     "name": "stdout",
     "text": "Tamanho recomendado da amostra: 76.0000\n"
    }
   ],
   "source": [
    "sigma = 7000 \n",
    "z = 1.64\n",
    "e = 1200\n",
    "N = 420\n",
    "n = inf.media_tamanho_amostra(z, sigma, e, N=N)\n",
    "print(\"Tamanho recomendado da amostra: {:6.4f}\".format(n))"
   ]
  },
  {
   "cell_type": "markdown",
   "metadata": {},
   "source": [
    "### c)"
   ]
  },
  {
   "cell_type": "code",
   "execution_count": 9,
   "metadata": {},
   "outputs": [
    {
     "output_type": "stream",
     "name": "stdout",
     "text": "Tamanho recomendado da amostra: 146.0000\n"
    }
   ],
   "source": [
    "sigma = 7000 \n",
    "alpha = 0.2 # 80% de confiança\n",
    "z = 1.28\n",
    "e = 600\n",
    "N = 420\n",
    "n = inf.media_tamanho_amostra(z, sigma, e, N)\n",
    "print(\"Tamanho recomendado da amostra: {:6.4f}\".format(n))"
   ]
  },
  {
   "cell_type": "markdown",
   "metadata": {},
   "source": [
    "### Exercício 03\n",
    "### a)"
   ]
  },
  {
   "cell_type": "code",
   "execution_count": 10,
   "metadata": {},
   "outputs": [
    {
     "output_type": "stream",
     "name": "stdout",
     "text": "Tamanho recomendado da amostra: 246.0000\n"
    }
   ],
   "source": [
    "alpha = 0.05 # 95% de confiança\n",
    "z = 1.96\n",
    "e = 50\n",
    "sigma = 400\n",
    "n = inf.media_tamanho_amostra(z, sigma, e)\n",
    "print(\"Tamanho recomendado da amostra: {:6.4f}\".format(n))"
   ]
  },
  {
   "cell_type": "markdown",
   "metadata": {},
   "source": [
    "### b)"
   ]
  },
  {
   "cell_type": "code",
   "execution_count": 11,
   "metadata": {},
   "outputs": [
    {
     "output_type": "stream",
     "name": "stdout",
     "text": "Tamanho recomendado da amostra: 984.0000\n"
    }
   ],
   "source": [
    "alpha = 0.05 # 95% de confiança\n",
    "z = 1.96\n",
    "e = 25\n",
    "sigma = 400\n",
    "n = inf.media_tamanho_amostra(z, sigma, e)\n",
    "print(\"Tamanho recomendado da amostra: {:6.4f}\".format(n))"
   ]
  },
  {
   "cell_type": "markdown",
   "metadata": {},
   "source": [
    "### c)"
   ]
  },
  {
   "cell_type": "code",
   "execution_count": 12,
   "metadata": {},
   "outputs": [
    {
     "output_type": "stream",
     "name": "stdout",
     "text": "Tamanho recomendado da amostra: 131.0000\n"
    }
   ],
   "source": [
    "alpha = 0.08 # 95% de confiança\n",
    "z = 1.75\n",
    "e = 50\n",
    "sigma = 400\n",
    "N = 386\n",
    "n = inf.media_tamanho_amostra(z, sigma, e, N)\n",
    "print(\"Tamanho recomendado da amostra: {:6.4f}\".format(n))"
   ]
  },
  {
   "cell_type": "markdown",
   "metadata": {},
   "source": [
    "## Intervalode confiança quando o desvio padrão é desconhecido"
   ]
  },
  {
   "cell_type": "markdown",
   "metadata": {},
   "source": [
    "### Exercício 04"
   ]
  },
  {
   "cell_type": "code",
   "execution_count": 13,
   "metadata": {},
   "outputs": [
    {
     "output_type": "stream",
     "name": "stdout",
     "text": "26.02\nIntervalo confiança é de 303.9800 a 356.0200\n"
    }
   ],
   "source": [
    "n = 16\n",
    "gl = n-1 # grau de liberdade\n",
    "alpha = 0.02\n",
    "med = 330\n",
    "s = 40\n",
    "t = 2.602\n",
    "e = inf.media_margem_erro(t, s, n)\n",
    "print(e)\n",
    "print(\"Intervalo confiança é de {:6.4f} a {:6.4f}\".format(med-e, med+e))"
   ]
  },
  {
   "cell_type": "markdown",
   "metadata": {},
   "source": [
    "## INTERVALO DE CONFIANÇA PARA A PROPORÇÃO"
   ]
  },
  {
   "cell_type": "markdown",
   "metadata": {},
   "source": [
    "### Exemplo 05 (complementar)"
   ]
  },
  {
   "cell_type": "code",
   "execution_count": 14,
   "metadata": {},
   "outputs": [
    {
     "output_type": "stream",
     "name": "stdout",
     "text": "Intervalo confiança: [0.0297 ; 0.0823]\nIntervalo confiança: [0.0031 ; 0.1089]\n"
    }
   ],
   "source": [
    "n = 125\n",
    "x = 7\n",
    "pa = x/n\n",
    "z1 = 1.28       # 80% de confianca\n",
    "z2 = 2.57       # 99% de confianca\n",
    "e1 = inf.prop_margem_erro(z1, pa, n)\n",
    "inf.print_intervalo_confianca(pa, e1)\n",
    "e2 = inf.prop_margem_erro(z2, pa, n)\n",
    "inf.print_intervalo_confianca(pa, e2)"
   ]
  },
  {
   "cell_type": "markdown",
   "metadata": {},
   "source": [
    "### Exercício 05\n",
    "### a)"
   ]
  },
  {
   "cell_type": "code",
   "execution_count": 15,
   "metadata": {},
   "outputs": [
    {
     "output_type": "stream",
     "name": "stdout",
     "text": "Intervalo confiança: [50.45% ; 59.55%]\n"
    }
   ],
   "source": [
    "n = 650\n",
    "pa = 0.55\n",
    "z = 2.33\n",
    "e = inf.prop_margem_erro(z, pa, n)\n",
    "inf.print_intervalo_confianca(pa, e, percent=True)"
   ]
  },
  {
   "cell_type": "markdown",
   "metadata": {},
   "source": [
    "### b)"
   ]
  },
  {
   "cell_type": "code",
   "execution_count": 16,
   "metadata": {},
   "outputs": [
    {
     "output_type": "stream",
     "name": "stdout",
     "text": "Intervalo confiança: [23.86% ; 56.14%]\n"
    }
   ],
   "source": [
    "n = 50\n",
    "pa = 0.4\n",
    "z = 2.33\n",
    "e = inf.prop_margem_erro(z, pa, n)\n",
    "inf.print_intervalo_confianca(pa, e, percent=True)"
   ]
  },
  {
   "cell_type": "markdown",
   "metadata": {},
   "source": [
    "### c)"
   ]
  },
  {
   "cell_type": "code",
   "execution_count": 17,
   "metadata": {},
   "outputs": [
    {
     "output_type": "stream",
     "name": "stdout",
     "text": "Intervalo confiança: [50.83% ; 61.17%]\n"
    }
   ],
   "source": [
    "n = 500\n",
    "pa = 1 - 0.44\n",
    "z = 2.33\n",
    "e = inf.prop_margem_erro(z, pa, n)\n",
    "inf.print_intervalo_confianca(pa, e, percent=True)"
   ]
  },
  {
   "cell_type": "markdown",
   "metadata": {},
   "source": [
    "## Determinação do tamanho da amostra (população finita)"
   ]
  },
  {
   "cell_type": "markdown",
   "metadata": {},
   "source": [
    "### Exercicio 06\n",
    "### a)"
   ]
  },
  {
   "cell_type": "code",
   "execution_count": 21,
   "metadata": {},
   "outputs": [
    {
     "output_type": "stream",
     "name": "stdout",
     "text": "Tamanho recomendado da amostra: 317.0000\n"
    }
   ],
   "source": [
    "N = 1286\n",
    "z = 1.64\n",
    "pa = 0.5\n",
    "e = 0.04\n",
    "n = inf.prop_tamanho_amostra(z, pa, e, N)\n",
    "print(\"Tamanho recomendado da amostra: {:6.4f}\".format(n))"
   ]
  },
  {
   "cell_type": "markdown",
   "metadata": {},
   "source": [
    "### b)"
   ]
  },
  {
   "cell_type": "code",
   "execution_count": 22,
   "metadata": {},
   "outputs": [
    {
     "output_type": "stream",
     "name": "stdout",
     "text": "Tamanho recomendado da amostra: 278.0000\n"
    }
   ],
   "source": [
    "N = 1286\n",
    "z = 1.64\n",
    "pa = 0.7\n",
    "e = 0.04\n",
    "n = inf.prop_tamanho_amostra(z, pa, e, N)\n",
    "print(\"Tamanho recomendado da amostra: {:6.4f}\".format(n))"
   ]
  },
  {
   "cell_type": "code",
   "execution_count": null,
   "metadata": {},
   "outputs": [],
   "source": []
  }
 ],
 "metadata": {
  "language_info": {
   "codemirror_mode": {
    "name": "ipython",
    "version": 3
   },
   "file_extension": ".py",
   "mimetype": "text/x-python",
   "name": "python",
   "nbconvert_exporter": "python",
   "pygments_lexer": "ipython3",
   "version": "3.6.9-final"
  },
  "orig_nbformat": 2,
  "kernelspec": {
   "name": "python36964bit5008fee065c0486d9a6cd0a51eb88184",
   "display_name": "Python 3.6.9 64-bit"
  }
 },
 "nbformat": 4,
 "nbformat_minor": 2
}