{
 "cells": [
  {
   "cell_type": "markdown",
   "metadata": {},
   "source": [
    "## ESTATÍSTICA \n",
    "## Material de Apoio"
   ]
  },
  {
   "cell_type": "code",
   "execution_count": 1,
   "metadata": {},
   "outputs": [],
   "source": [
    "import numpy as np\n",
    "from math import sqrt"
   ]
  },
  {
   "cell_type": "code",
   "execution_count": 2,
   "metadata": {},
   "outputs": [],
   "source": [
    "from stats import binomial as bi\n",
    "from stats import exponencial as xp\n",
    "from stats import poisson as po\n",
    "from stats import normal as nm\n",
    "from stats import inferencia as inf"
   ]
  },
  {
   "cell_type": "markdown",
   "metadata": {},
   "source": [
    "## INFERÊNCIA"
   ]
  },
  {
   "cell_type": "markdown",
   "metadata": {},
   "source": [
    "### MÉDIA"
   ]
  },
  {
   "cell_type": "code",
   "execution_count": 10,
   "metadata": {},
   "outputs": [
    {
     "output_type": "stream",
     "name": "stdout",
     "text": "Intervalo confiança: [27.3379 ; 32.6621]\n"
    }
   ],
   "source": [
    "n = 29\n",
    "med = 30\n",
    "s = 7\n",
    "t = 2.048\n",
    "e = inf.media_margem_erro(t, s, n)\n",
    "inf.print_intervalo_confianca(med, e)"
   ]
  },
  {
   "cell_type": "code",
   "execution_count": 4,
   "metadata": {},
   "outputs": [
    {
     "output_type": "stream",
     "name": "stdout",
     "text": "0.5501\nIntervalo confiança: [22.3499 ; 23.4501]\n"
    }
   ],
   "source": [
    "n = 20\n",
    "med = 22.9\n",
    "dp = 1.5\n",
    "z = 1.64\n",
    "e = inf.media_margem_erro(z, dp, n)\n",
    "print(e)\n",
    "inf.print_intervalo_confianca(med, e)"
   ]
  },
  {
   "cell_type": "code",
   "execution_count": 5,
   "metadata": {},
   "outputs": [
    {
     "output_type": "stream",
     "name": "stdout",
     "text": "Tamanho da amostra: 467.0000\n"
    }
   ],
   "source": [
    "e = 0.05\n",
    "dp = sqrt(0.1764)\n",
    "z = 2.57\n",
    "n = inf.media_tamanho_amostra(z, dp, e)\n",
    "print(\"Tamanho da amostra: {:6.4f}\".format(n))"
   ]
  },
  {
   "cell_type": "markdown",
   "metadata": {},
   "source": [
    "### PROPORÇÃO"
   ]
  },
  {
   "cell_type": "code",
   "execution_count": 6,
   "metadata": {},
   "outputs": [
    {
     "output_type": "stream",
     "name": "stdout",
     "text": "Tamanho da amostra: 1076.0000\n"
    }
   ],
   "source": [
    "e = 0.025\n",
    "pa = 0.5\n",
    "z = 1.64\n",
    "n = inf.prop_tamanho_amostra(z, pa, e)\n",
    "print(\"Tamanho da amostra: {:6.4f}\".format(n))"
   ]
  },
  {
   "cell_type": "code",
   "execution_count": 7,
   "metadata": {},
   "outputs": [
    {
     "output_type": "stream",
     "name": "stdout",
     "text": "Intervalo confiança: [0.0562 ; 0.1438]\n"
    }
   ],
   "source": [
    "n = 180\n",
    "x = 18\n",
    "pa = x/n\n",
    "z = 1.96\n",
    "e = inf.prop_margem_erro(z, pa, n)\n",
    "inf.print_intervalo_confianca(pa, e)"
   ]
  },
  {
   "cell_type": "code",
   "execution_count": null,
   "metadata": {},
   "outputs": [],
   "source": []
  }
 ],
 "metadata": {
  "language_info": {
   "codemirror_mode": {
    "name": "ipython",
    "version": 3
   },
   "file_extension": ".py",
   "mimetype": "text/x-python",
   "name": "python",
   "nbconvert_exporter": "python",
   "pygments_lexer": "ipython3",
   "version": "3.6.9-final"
  },
  "orig_nbformat": 2,
  "kernelspec": {
   "name": "python36964bit5008fee065c0486d9a6cd0a51eb88184",
   "display_name": "Python 3.6.9 64-bit"
  }
 },
 "nbformat": 4,
 "nbformat_minor": 2
}